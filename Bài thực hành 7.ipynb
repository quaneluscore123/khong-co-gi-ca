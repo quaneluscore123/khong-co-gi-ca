{
 "cells": [
  {
   "cell_type": "markdown",
   "id": "7d9d8b7e",
   "metadata": {},
   "source": [
    "Bài 1: Tính S=1^3+ 2^3 +...+ n^3"
   ]
  },
  {
   "cell_type": "code",
   "execution_count": 20,
   "id": "3eac3856",
   "metadata": {},
   "outputs": [
    {
     "name": "stdout",
     "output_type": "stream",
     "text": [
      "Nhập n: 2\n",
      "tổng s= 10\n"
     ]
    }
   ],
   "source": [
    "n=int(input(\"Nhập n: \"))\n",
    "s=0\n",
    "for i in range(0,n+1):\n",
    "    s+=(i**3)\n",
    "print(f\"tổng s= {s}\")"
   ]
  },
  {
   "cell_type": "markdown",
   "id": "8dd5052e",
   "metadata": {},
   "source": [
    "Bài 2: Tính S=1^2 +2^2 +...+ n^2"
   ]
  },
  {
   "cell_type": "code",
   "execution_count": 19,
   "id": "6ad300ae",
   "metadata": {},
   "outputs": [
    {
     "name": "stdout",
     "output_type": "stream",
     "text": [
      "Nhập n: 2\n",
      "tổng s= 5\n"
     ]
    }
   ],
   "source": [
    "n=int(input(\"Nhập n: \"))\n",
    "s=0\n",
    "for i in range(0,n+1):\n",
    "    s+=(i**2)\n",
    "print(f\"tổng s= {s}\")"
   ]
  },
  {
   "cell_type": "markdown",
   "id": "3ea9b443",
   "metadata": {},
   "source": [
    "Bài 3: Tính S=1+ 1/2 +...+ 1/n"
   ]
  },
  {
   "cell_type": "code",
   "execution_count": 7,
   "id": "3549c394",
   "metadata": {},
   "outputs": [
    {
     "name": "stdout",
     "output_type": "stream",
     "text": [
      "Nhập n: 2\n",
      "tổng s= 1.5\n"
     ]
    }
   ],
   "source": [
    "n=int(input(\"Nhập n: \"))\n",
    "s=0\n",
    "for i in range(1,n+1):\n",
    "    s+=1/i\n",
    "print(f\"tổng s= {s}\")"
   ]
  },
  {
   "cell_type": "markdown",
   "id": "dd185bf0",
   "metadata": {},
   "source": [
    "Bài 4: Tính S=1/(1*2) +1/(2*3)+...+ 1/(n*(n+1))"
   ]
  },
  {
   "cell_type": "code",
   "execution_count": 14,
   "id": "214208d6",
   "metadata": {},
   "outputs": [
    {
     "name": "stdout",
     "output_type": "stream",
     "text": [
      "Nhập n: 2\n",
      "tổng s= 0.667\n"
     ]
    }
   ],
   "source": [
    "n=int(input(\"Nhập n: \"))\n",
    "s=0\n",
    "for i in range(1,n+1):\n",
    "    s+=1/(i*(i+1))\n",
    "print(f\"tổng s= {s:.3f}\")"
   ]
  },
  {
   "cell_type": "code",
   "execution_count": null,
   "id": "ceb18a9a",
   "metadata": {},
   "outputs": [],
   "source": []
  }
 ],
 "metadata": {
  "kernelspec": {
   "display_name": "Python 3 (ipykernel)",
   "language": "python",
   "name": "python3"
  },
  "language_info": {
   "codemirror_mode": {
    "name": "ipython",
    "version": 3
   },
   "file_extension": ".py",
   "mimetype": "text/x-python",
   "name": "python",
   "nbconvert_exporter": "python",
   "pygments_lexer": "ipython3",
   "version": "3.9.7"
  }
 },
 "nbformat": 4,
 "nbformat_minor": 5
}
